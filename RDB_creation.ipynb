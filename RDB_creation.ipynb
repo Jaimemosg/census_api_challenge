{
 "cells": [
  {
   "cell_type": "markdown",
   "metadata": {},
   "source": [
    "# Creación de tablas para la RDB"
   ]
  },
  {
   "cell_type": "code",
   "execution_count": 1,
   "metadata": {},
   "outputs": [],
   "source": [
    "import numpy as np\n",
    "import sqlite3\n",
    "\n",
    "import pandas as pd\n",
    "import numpy as np\n",
    "\n",
    "# Pandas options\n",
    "pd.set_option('display.max_columns', 500)"
   ]
  },
  {
   "cell_type": "code",
   "execution_count": 2,
   "metadata": {},
   "outputs": [],
   "source": [
    "import sqlite3\n",
    "import os\n",
    "os.remove(\"censusdb.db\")"
   ]
  },
  {
   "cell_type": "code",
   "execution_count": 3,
   "metadata": {},
   "outputs": [],
   "source": [
    "def create_connection(db_file):\n",
    "    \"\"\" create a database connection to the SQLite database\n",
    "        specified by db_file\n",
    "    :param db_file: database file\n",
    "    :return: Connection object or None\n",
    "    \"\"\"\n",
    "    conn = None\n",
    "    try:\n",
    "        conn = sqlite3.connect(db_file)\n",
    "        return conn\n",
    "    except Error as e:\n",
    "        print(e)\n",
    "\n",
    "    return conn\n",
    "\n",
    "def create_table(conn, create_table_sql):\n",
    "    \"\"\" create a table from the create_table_sql statement\n",
    "    :param conn: Connection object\n",
    "    :param create_table_sql: a CREATE TABLE statement\n",
    "    :return:\n",
    "    \"\"\"\n",
    "    try:\n",
    "        c = conn.cursor()\n",
    "        c.execute(create_table_sql)\n",
    "    except Error as e:\n",
    "        print(e)"
   ]
  },
  {
   "cell_type": "code",
   "execution_count": 4,
   "metadata": {},
   "outputs": [],
   "source": [
    "def main():\n",
    "    database = r\"C:\\Users\\Jaime\\Documents\\innovati\\REST_API\\censusdb.db\"\n",
    "\n",
    "    sql_create_marital_stat_tbl  = \"\"\" CREATE TABLE IF NOT EXISTS marital_stat_tbl (\n",
    "                                        id integer PRIMARY KEY,\n",
    "                                        marital_stat text NOT NULL\n",
    "                                    ); \"\"\"\n",
    "    \n",
    "    sql_create_race_tbl  = \"\"\" CREATE TABLE IF NOT EXISTS race_tbl (\n",
    "                                id integer PRIMARY KEY,\n",
    "                                race text NOT NULL\n",
    "                            ); \"\"\"\n",
    "\n",
    "    sql_create_sex_tbl  = \"\"\" CREATE TABLE IF NOT EXISTS sex_tbl (\n",
    "                                id integer PRIMARY KEY,\n",
    "                                sex text NOT NULL\n",
    "                            ); \"\"\"\n",
    "\n",
    "    sql_create_hisp_origin_tbl  = \"\"\" CREATE TABLE IF NOT EXISTS hisp_origin_tbl (\n",
    "                                        id integer PRIMARY KEY,\n",
    "                                        hisp_origin text NOT NULL\n",
    "                                    ); \"\"\"\n",
    "\n",
    "    sql_create_education_tbl  = \"\"\" CREATE TABLE IF NOT EXISTS education_tbl (\n",
    "                                      id integer PRIMARY KEY,\n",
    "                                      education text NOT NULL\n",
    "                                 ); \"\"\"\n",
    "    \n",
    "    sql_create_person_tbl = \"\"\"CREATE TABLE IF NOT EXISTS person_tbl (\n",
    "                                    id_person integer PRIMARY KEY,\n",
    "                                    age text NOT NULL,\n",
    "                                    year integer,\n",
    "                                    marital_stat integer NOT NULL,\n",
    "                                    race integer NOT NULL,\n",
    "                                    education integer NOT NULL,\n",
    "                                    hisp_origin integer NOT NULL,\n",
    "                                    sex integer NOT NULL,\n",
    "                                    FOREIGN KEY (marital_stat) REFERENCES marital_stat_tbl (id),\n",
    "                                    FOREIGN KEY (race) REFERENCES race_tbl (id),\n",
    "                                    FOREIGN KEY (education) REFERENCES education_tbl (id),\n",
    "                                    FOREIGN KEY (hisp_origin) REFERENCES hisp_origin_tbl (id),\n",
    "                                    FOREIGN KEY (sex) REFERENCES sex_tbl (id)\n",
    "                                );\"\"\"\n",
    "    \n",
    "    sql_create_class_worker_tbl  = \"\"\" CREATE TABLE IF NOT EXISTS class_worker_tbl (\n",
    "                                          id integer PRIMARY KEY,\n",
    "                                          class_worker text NOT NULL\n",
    "                                     ); \"\"\"    \n",
    "\n",
    "    sql_create_major_occ_code_tbl  = \"\"\" CREATE TABLE IF NOT EXISTS major_occ_code_tbl (\n",
    "                                          id integer PRIMARY KEY,\n",
    "                                          major_occ_code text NOT NULL,\n",
    "                                          det_ind_code integer,\n",
    "                                          FOREIGN KEY (det_ind_code) REFERENCES major_ind_code_tbl (det_ind_code)\n",
    "                                      ); \"\"\" \n",
    "\n",
    "    sql_create_major_ind_code_tbl  = \"\"\" CREATE TABLE IF NOT EXISTS major_ind_code_tbl (\n",
    "                                          det_ind_code integer PRIMARY KEY,\n",
    "                                          major_ind_code text NOT NULL\n",
    "                                      ); \"\"\" \n",
    "    \n",
    "    sql_create_employee_tbl = \"\"\"CREATE TABLE IF NOT EXISTS employee_tbl (\n",
    "                                    id_person integer NOT NULL,\n",
    "                                    class_worker integer NOT NULL,\n",
    "                                    year integer,\n",
    "                                    det_occ_code integer NOT NULL,\n",
    "                                    wage_per_hour real,\n",
    "                                    union_member boolean,\n",
    "                                    unemp_reason text,\n",
    "                                    full_or_part_emp text,\n",
    "                                    own_or_self text,\n",
    "                                    weeks_worked integer,\n",
    "                                    income_50k boolean,\n",
    "                                    FOREIGN KEY (id_person) REFERENCES person_tbl (id_person),\n",
    "                                    FOREIGN KEY (class_worker) REFERENCES class_worker_tbl (id),\n",
    "                                    FOREIGN KEY (det_occ_code) REFERENCES major_occ_code_tbl (id)\n",
    "                                );\"\"\"    \n",
    "    \n",
    "    # create a database connection\n",
    "    conn = create_connection(database)\n",
    "\n",
    "    # create tables\n",
    "    if conn is not None:\n",
    "        create_table(conn, sql_create_marital_stat_tbl)\n",
    "        create_table(conn, sql_create_race_tbl)\n",
    "        create_table(conn, sql_create_sex_tbl)\n",
    "        create_table(conn, sql_create_hisp_origin_tbl)\n",
    "        create_table(conn, sql_create_education_tbl)\n",
    "        create_table(conn, sql_create_person_tbl)\n",
    "        create_table(conn, sql_create_class_worker_tbl)\n",
    "        create_table(conn, sql_create_major_occ_code_tbl)\n",
    "        create_table(conn, sql_create_major_ind_code_tbl)\n",
    "        create_table(conn, sql_create_employee_tbl)\n",
    "    else:\n",
    "        print(\"Error! cannot create the database connection.\")"
   ]
  },
  {
   "cell_type": "code",
   "execution_count": null,
   "metadata": {},
   "outputs": [],
   "source": [
    "if __name__ == '__main__':\n",
    "    main()"
   ]
  },
  {
   "cell_type": "markdown",
   "metadata": {},
   "source": [
    "## Cargamos contenidos y ajustamos las tablas"
   ]
  },
  {
   "cell_type": "code",
   "execution_count": null,
   "metadata": {},
   "outputs": [],
   "source": [
    "census = pd.read_csv(\"data/census_tidy.csv\")\n",
    "print(census.shape)\n",
    "census.head()"
   ]
  },
  {
   "cell_type": "code",
   "execution_count": null,
   "metadata": {},
   "outputs": [],
   "source": [
    "census.rename({'Unnamed: 0':'id_person'}, axis=1, inplace=True)\n",
    "census.drop(['instance_weight'], axis=1)\n",
    "census.head()"
   ]
  },
  {
   "cell_type": "code",
   "execution_count": null,
   "metadata": {},
   "outputs": [],
   "source": [
    "census['income_50k'].unique().tolist()"
   ]
  },
  {
   "cell_type": "code",
   "execution_count": null,
   "metadata": {},
   "outputs": [],
   "source": [
    "census['income_50k'] = census['income_50k'].replace([' - 50000.', ' 50000+.'],[False,True])\n",
    "census.head()"
   ]
  },
  {
   "cell_type": "code",
   "execution_count": null,
   "metadata": {},
   "outputs": [],
   "source": [
    "features = pd.read_csv(\"data/names.csv\", sep=';')\n",
    "features.head()"
   ]
  },
  {
   "cell_type": "code",
   "execution_count": null,
   "metadata": {},
   "outputs": [],
   "source": [
    "def whitespace_remover(dataframe):\n",
    "    \n",
    "    # iterating over the columns\n",
    "    for i in text_fields:\n",
    "          \n",
    "        # checking datatype of each columns\n",
    "        if dataframe[i].dtype == 'object':\n",
    "              \n",
    "            # applying strip function on column\n",
    "            dataframe[i] = dataframe[i].map(str.lstrip)\n",
    "        else:\n",
    "              \n",
    "            # if condn. is False then it will do nothing.\n",
    "            pass\n",
    "    return dataframe"
   ]
  },
  {
   "cell_type": "code",
   "execution_count": null,
   "metadata": {},
   "outputs": [],
   "source": [
    "text_fields = features[features.DataType=='text'].Code.tolist()\n",
    "census = whitespace_remover(census)\n",
    "census.head()"
   ]
  },
  {
   "cell_type": "markdown",
   "metadata": {},
   "source": [
    "## Tablas secundarias\n",
    "\n",
    "Creemos las tablas secundarias"
   ]
  },
  {
   "cell_type": "code",
   "execution_count": null,
   "metadata": {},
   "outputs": [],
   "source": [
    "conn = sqlite3.connect('censusdb.db')  \n",
    "c = conn.cursor()"
   ]
  },
  {
   "cell_type": "code",
   "execution_count": null,
   "metadata": {},
   "outputs": [],
   "source": [
    "sex_categ = census.sex.unique().tolist()\n",
    "sex_code = list(range(len(sex_categ)))\n",
    "sex_tbl = pd.DataFrame(list(zip(sex_code, sex_categ)),\n",
    "                       columns =['id', 'sex'])\n",
    "sex_tbl.to_csv('data/tables/sex_tbl.csv', index=False)\n",
    "sex_tbl.to_sql('sex_tbl', conn, if_exists='append', index = False)\n",
    "sex_tbl.head()"
   ]
  },
  {
   "cell_type": "code",
   "execution_count": null,
   "metadata": {},
   "outputs": [],
   "source": [
    "hisp_origin_categ = census.hisp_origin.unique().tolist()\n",
    "hisp_origin_code = list(range(len(hisp_origin_categ)))\n",
    "hisp_origin_tbl = pd.DataFrame(list(zip(hisp_origin_code, hisp_origin_categ)),\n",
    "                       columns =['id', 'hisp_origin'])\n",
    "hisp_origin_tbl.to_csv('data/tables/hisp_origin_tbl.csv', index=False)\n",
    "hisp_origin_tbl.to_sql('hisp_origin_tbl', conn, if_exists='append', index = False)\n",
    "hisp_origin_tbl.head()"
   ]
  },
  {
   "cell_type": "code",
   "execution_count": null,
   "metadata": {},
   "outputs": [],
   "source": [
    "martial_status_categ = census.marital_stat.unique().tolist()\n",
    "martial_status_code = list(range(len(martial_status_categ)))\n",
    "martial_status_tbl = pd.DataFrame(list(zip(martial_status_code, martial_status_categ)),\n",
    "                       columns =['id', 'marital_stat'])\n",
    "martial_status_tbl.to_csv('data/tables/martial_status_tbl.csv', index=False)\n",
    "martial_status_tbl.to_sql('martial_status_tbl', conn, if_exists='append', index = False)\n",
    "martial_status_tbl.head()"
   ]
  },
  {
   "cell_type": "code",
   "execution_count": null,
   "metadata": {},
   "outputs": [],
   "source": [
    "race_categ = census.race.unique().tolist()\n",
    "race_code = list(range(len(race_categ)))\n",
    "race_tbl = pd.DataFrame(list(zip(race_code, race_categ)),\n",
    "                       columns =['id', 'race'])\n",
    "race_tbl.to_csv('data/tables/race_tbl.csv', index=False)\n",
    "race_tbl.to_sql('race_tbl', conn, if_exists='append', index = False)\n",
    "race_tbl.head()"
   ]
  },
  {
   "cell_type": "code",
   "execution_count": null,
   "metadata": {},
   "outputs": [],
   "source": [
    "class_worker_categ = census.class_worker.unique().tolist()\n",
    "class_worker_code = list(range(len(class_worker_categ)))\n",
    "class_worker_tbl = pd.DataFrame(list(zip(class_worker_code, class_worker_categ)),\n",
    "                               columns =['id', 'class_worker'])\n",
    "class_worker_tbl.to_csv('data/tables/class_worker_tbl.csv', index=False)\n",
    "class_worker_tbl.to_sql('class_worker_tbl', conn, if_exists='append', index = False)\n",
    "class_worker_tbl.head()"
   ]
  },
  {
   "cell_type": "code",
   "execution_count": null,
   "metadata": {},
   "outputs": [],
   "source": [
    "education_categ = census.education.unique().tolist()\n",
    "education_code = list(range(len(education_categ)))\n",
    "education_tbl = pd.DataFrame(list(zip(education_code, education_categ)),\n",
    "                               columns =['id', 'education'])\n",
    "education_tbl.to_sql('education_tbl', conn, if_exists='append', index = False)\n",
    "education_tbl.head()"
   ]
  },
  {
   "cell_type": "markdown",
   "metadata": {},
   "source": [
    "Las tablas de ocupación e industria requieren extraer las categorías y los códigos directamente de la tabla tidy"
   ]
  },
  {
   "cell_type": "code",
   "execution_count": null,
   "metadata": {},
   "outputs": [],
   "source": [
    "det_ind_code = census.det_ind_code.unique().tolist()\n",
    "det_ind_code_tbl = census[['det_ind_code', 'major_ind_code']].drop_duplicates()\n",
    "print(det_ind_code_tbl.shape)\n",
    "det_ind_code_tbl.to_csv('data/tables/det_ind_code_tbl.csv', index=False)\n",
    "det_ind_code_tbl.to_sql('det_ind_code_tbl', conn, if_exists='append', index = False)\n",
    "det_ind_code_tbl.head()"
   ]
  },
  {
   "cell_type": "code",
   "execution_count": null,
   "metadata": {},
   "outputs": [],
   "source": [
    "census[census.det_ind_code==1][['det_ind_code', 'major_ind_code', 'major_occ_code']].major_occ_code.unique()"
   ]
  },
  {
   "cell_type": "code",
   "execution_count": null,
   "metadata": {},
   "outputs": [],
   "source": [
    "det_occ_code = census.det_ind_code.unique().tolist()\n",
    "det_occ_code_tbl = census[['det_occ_code', 'major_occ_code',\n",
    "                           'det_ind_code']].drop_duplicates(subset=['det_occ_code'])\n",
    "print(det_occ_code_tbl.shape)\n",
    "det_occ_code_tbl.to_csv('data/tables/det_ind_code_tbl.csv', index=False)\n",
    "det_occ_code_tbl.to_sql('det_occ_code_tbl', conn, if_exists='append', index = False)\n",
    "det_occ_code_tbl.head()"
   ]
  },
  {
   "cell_type": "markdown",
   "metadata": {},
   "source": [
    "### Tabla `employee_tbl`"
   ]
  },
  {
   "cell_type": "code",
   "execution_count": null,
   "metadata": {},
   "outputs": [],
   "source": [
    "employee_vars = features[features.Employee==1].Code.tolist() + ['id_person']\n",
    "employee = census[employee_vars]\n",
    "employee.head()"
   ]
  },
  {
   "cell_type": "code",
   "execution_count": null,
   "metadata": {},
   "outputs": [],
   "source": [
    "employee = employee.merge(class_worker_tbl, on='class_worker', \n",
    "                          how='inner')\n",
    "employee.drop(['class_worker'], axis=1, inplace=True)\n",
    "employee.rename({'id':'class_worker'}, axis=1, inplace=True)\n",
    "employee.head()"
   ]
  },
  {
   "cell_type": "code",
   "execution_count": null,
   "metadata": {},
   "outputs": [],
   "source": [
    "# employee['id'] = pd.Series(list(range(len(employee))))\n",
    "employee.to_csv('data/tables/employee.csv', index=False)\n",
    "employee.head()"
   ]
  },
  {
   "cell_type": "code",
   "execution_count": null,
   "metadata": {},
   "outputs": [],
   "source": [
    "employee.to_sql('employee_tbl', conn, if_exists='append', index = False)"
   ]
  },
  {
   "cell_type": "markdown",
   "metadata": {},
   "source": [
    "### Tabla `person`"
   ]
  },
  {
   "cell_type": "code",
   "execution_count": null,
   "metadata": {},
   "outputs": [],
   "source": [
    "person_vars = features[features.Person==1].Code.tolist() + ['id_person']\n",
    "person = census[person_vars]\n",
    "person.head()"
   ]
  },
  {
   "cell_type": "code",
   "execution_count": null,
   "metadata": {},
   "outputs": [],
   "source": [
    "person = person.merge(education_tbl, on='education', \n",
    "                      how='inner')\n",
    "person.drop(['education'], axis=1, inplace=True)\n",
    "person.rename({'id':'education'}, axis=1, inplace=True)\n",
    "person"
   ]
  },
  {
   "cell_type": "code",
   "execution_count": null,
   "metadata": {},
   "outputs": [],
   "source": [
    "person = person.merge(martial_status_tbl, on='marital_stat', \n",
    "                      how='inner')\n",
    "person.drop(['marital_stat'], axis=1, inplace=True)\n",
    "person.rename({'id':'marital_stat'}, axis=1, inplace=True)\n",
    "person"
   ]
  },
  {
   "cell_type": "code",
   "execution_count": null,
   "metadata": {},
   "outputs": [],
   "source": [
    "person = person.merge(race_tbl, on='race', \n",
    "                      how='inner')\n",
    "person.drop(['race'], axis=1, inplace=True)\n",
    "person.rename({'id':'race'}, axis=1, inplace=True)\n",
    "person"
   ]
  },
  {
   "cell_type": "code",
   "execution_count": null,
   "metadata": {},
   "outputs": [],
   "source": [
    "person = person.merge(hisp_origin_tbl, on='hisp_origin', \n",
    "                      how='inner')\n",
    "person.drop(['hisp_origin'], axis=1, inplace=True)\n",
    "person.rename({'id':'hisp_origin'}, axis=1, inplace=True)\n",
    "person"
   ]
  },
  {
   "cell_type": "code",
   "execution_count": null,
   "metadata": {},
   "outputs": [],
   "source": [
    "person = person.merge(sex_tbl, on='sex', \n",
    "                      how='inner')\n",
    "person.drop(['sex'], axis=1, inplace=True)\n",
    "person.rename({'id':'sex'}, axis=1, inplace=True)\n",
    "person"
   ]
  },
  {
   "cell_type": "code",
   "execution_count": null,
   "metadata": {},
   "outputs": [],
   "source": [
    "person.to_csv('data/tables/person.csv', index=False)\n",
    "person.to_sql('person_tbl', conn, if_exists='append', index = False)"
   ]
  },
  {
   "cell_type": "markdown",
   "metadata": {},
   "source": [
    "## Queries de prueba"
   ]
  },
  {
   "cell_type": "code",
   "execution_count": null,
   "metadata": {},
   "outputs": [],
   "source": [
    "sex_tbl_query = \"\"\"\n",
    "SELECT * FROM sex_tbl;\n",
    "\"\"\"\n",
    "data = pd.read_sql_query(sex_tbl_query, conn)\n",
    "data"
   ]
  },
  {
   "cell_type": "code",
   "execution_count": null,
   "metadata": {},
   "outputs": [],
   "source": [
    "age_tbl_query = \"\"\"\n",
    "SELECT * FROM person_tbl\n",
    "WHERE age = 73;\n",
    "\"\"\"\n",
    "data = pd.read_sql_query(age_tbl_query, conn)\n",
    "data.head()"
   ]
  },
  {
   "cell_type": "code",
   "execution_count": null,
   "metadata": {},
   "outputs": [],
   "source": [
    "employee_tbl_query = \"\"\"\n",
    "SELECT * FROM employee_tbl\n",
    "WHERE det_occ_code = 45;\n",
    "\"\"\"\n",
    "data = pd.read_sql_query(employee_tbl_query, conn)\n",
    "data.head()"
   ]
  },
  {
   "cell_type": "code",
   "execution_count": null,
   "metadata": {},
   "outputs": [],
   "source": [
    "mix_query = \"\"\"\n",
    "WITH total_tbl1 AS (SELECT * FROM person_tbl as p\n",
    "INNER JOIN employee_tbl as e ON e.id_person=p.id_person)\n",
    "SELECT * FROM hisp_origin_tbl as hsp \n",
    "INNER JOIN total_tbl1 ON total_tbl1.hisp_origin = hsp.id\n",
    "\"\"\"\n",
    "data = pd.read_sql_query(mix_query, conn)\n",
    "data.head()"
   ]
  },
  {
   "cell_type": "code",
   "execution_count": null,
   "metadata": {},
   "outputs": [],
   "source": [
    "codes_query = \"\"\"\n",
    "WITH person_hisp AS (\n",
    "    SELECT p.id_person, p.age, p.year, p.marital_stat, p.race, p.education, \n",
    "           p.sex, hsp.hisp_origin FROM person_tbl as p\n",
    "    INNER JOIN hisp_origin_tbl as hsp ON hsp.id = p.hisp_origin\n",
    ")\n",
    "SELECT r.race, p2.id_person, p2.age, p2.year, p2.marital_stat,\n",
    "       p2.education, p2.hisp_origin, p2.sex\n",
    "       FROM race_tbl as r \n",
    "INNER JOIN person_hisp as p2 ON p2.race = r.id;\n",
    "\"\"\"\n",
    "data = pd.read_sql_query(codes_query, conn)\n",
    "data.head()"
   ]
  },
  {
   "cell_type": "code",
   "execution_count": null,
   "metadata": {},
   "outputs": [],
   "source": [
    "post_query = \"\"\"\n",
    "WITH data AS (\n",
    "    WITH data_occ AS (\n",
    "        WITH data_class AS(\n",
    "            WITH person_total AS (\n",
    "                WITH person_edu AS (\n",
    "                    WITH person_sex AS (\n",
    "                        WITH person_race AS (\n",
    "                            WITH person_hisp AS (\n",
    "                                SELECT p1.id_person, p1.age, p1.year, p1.marital_stat, p1.race, \n",
    "                                p1.education, p1.sex, hsp.hisp_origin FROM person_tbl as p1\n",
    "                                INNER JOIN hisp_origin_tbl as hsp ON hsp.id = p1.hisp_origin\n",
    "                            )\n",
    "                            SELECT r.race, p2.id_person, p2.age, p2.year, p2.marital_stat,\n",
    "                                    p2.education, p2.hisp_origin, p2.sex FROM race_tbl as r \n",
    "                            INNER JOIN person_hisp as p2 ON p2.race = r.id\n",
    "                            )\n",
    "                        SELECT p3.id_person, p3.race, p3.age, p3.year, p3.education, p3.hisp_origin,\n",
    "                                p3.sex, ms.marital_stat FROM person_race AS p3\n",
    "                        INNER JOIN  martial_status_tbl as ms ON ms.id = p3.marital_stat\n",
    "                        )\n",
    "                    SELECT p4.id_person, p4.race, p4.age, p4.year, p4.marital_stat, p4.education, \n",
    "                            p4.hisp_origin, sex_tbl.sex FROM person_sex AS p4\n",
    "                    INNER JOIN sex_tbl ON sex_tbl.id = p4.sex\n",
    "                )\n",
    "                SELECT p5.id_person, p5.race, p5.age, p5.year, p5.marital_stat, edu.education,\n",
    "                        p5.hisp_origin, p5.sex FROM person_edu as p5\n",
    "                INNER JOIN education_tbl as edu ON edu.id = p5.education\n",
    "            )\n",
    "            SELECT p.id_person, p.race, p.age, p.year, p.marital_stat, p.education, p.hisp_origin, \n",
    "                    p.sex, e.det_occ_code, e.wage_per_hour, e.union_member, e.unemp_reason,\n",
    "                    e.own_or_self, e.weeks_worked, e.income_50k, e.class_worker FROM person_total AS p\n",
    "            INNER JOIN employee_tbl as e ON e.id_person=p.id_person\n",
    "        )\n",
    "        SELECT dcl.id_person, dcl.race, dcl.age, dcl.year, dcl.marital_stat, dcl.education, dcl.hisp_origin,\n",
    "               dcl.sex, dcl.wage_per_hour, dcl.union_member, dcl.unemp_reason, dcl.own_or_self,\n",
    "               dcl.weeks_worked, dcl.income_50k, dcl.det_occ_code, cw.class_worker FROM data_class as dcl\n",
    "        INNER JOIN class_worker_tbl as cw ON cw.id = dcl.class_worker\n",
    "    )\n",
    "    SELECT docc.id_person, docc.race, docc.age, docc.year, docc.marital_stat, docc.education, docc.hisp_origin,\n",
    "           docc.sex, docc.wage_per_hour, docc.union_member, docc.unemp_reason, docc.own_or_self,\n",
    "           docc.weeks_worked, docc.income_50k, mo.major_occ_code, mo.det_ind_code, docc.class_worker\n",
    "           FROM data_occ as docc\n",
    "    INNER JOIN det_occ_code_tbl as mo ON mo.det_occ_code = docc.det_occ_code\n",
    ")\n",
    "SELECT data.id_person, data.race, data.age, data.year, data.marital_stat, data.education, data.hisp_origin,\n",
    "       data.sex, data.wage_per_hour, data.union_member, data.unemp_reason, data.own_or_self, data.class_worker,\n",
    "       data.weeks_worked, data.income_50k, data.major_occ_code, mi.major_ind_code FROM data\n",
    "INNER JOIN det_ind_code_tbl as mi ON mi.det_ind_code = data.det_ind_code;\n",
    "\"\"\"\n",
    "data = pd.read_sql_query(post_query, conn)\n",
    "data.head()"
   ]
  },
  {
   "cell_type": "code",
   "execution_count": null,
   "metadata": {},
   "outputs": [],
   "source": [
    "data.class_worker.unique().tolist()"
   ]
  },
  {
   "cell_type": "code",
   "execution_count": null,
   "metadata": {},
   "outputs": [],
   "source": [
    "data.major_ind_code.unique().tolist()"
   ]
  },
  {
   "cell_type": "code",
   "execution_count": null,
   "metadata": {},
   "outputs": [],
   "source": [
    "data.major_occ_code.unique().tolist()"
   ]
  },
  {
   "cell_type": "code",
   "execution_count": null,
   "metadata": {},
   "outputs": [],
   "source": [
    "data.sex.unique().tolist()"
   ]
  },
  {
   "cell_type": "code",
   "execution_count": null,
   "metadata": {},
   "outputs": [],
   "source": [
    "data.hisp_origin.unique().tolist()"
   ]
  },
  {
   "cell_type": "code",
   "execution_count": null,
   "metadata": {},
   "outputs": [],
   "source": [
    "data.marital_stat.unique().tolist()"
   ]
  },
  {
   "cell_type": "code",
   "execution_count": null,
   "metadata": {},
   "outputs": [],
   "source": [
    "filter_query = \"\"\"\n",
    "WITH data AS (\n",
    "    WITH data_occ AS (\n",
    "        WITH data_class AS(\n",
    "            WITH person_total AS (\n",
    "                WITH person_edu AS (\n",
    "                    WITH person_sex AS (\n",
    "                        WITH person_race AS (\n",
    "                            WITH person_hisp AS (\n",
    "                                SELECT p1.id_person, p1.age, p1.year, p1.marital_stat, p1.race, \n",
    "                                p1.education, p1.sex, hsp.hisp_origin FROM person_tbl as p1\n",
    "                                INNER JOIN hisp_origin_tbl as hsp ON hsp.id = p1.hisp_origin\n",
    "                            )\n",
    "                            SELECT r.race, p2.id_person, p2.age, p2.year, p2.marital_stat,\n",
    "                                    p2.education, p2.hisp_origin, p2.sex FROM race_tbl as r \n",
    "                            INNER JOIN person_hisp as p2 ON p2.race = r.id\n",
    "                            )\n",
    "                        SELECT p3.id_person, p3.race, p3.age, p3.year, p3.education, p3.hisp_origin,\n",
    "                                p3.sex, ms.marital_stat FROM person_race AS p3\n",
    "                        INNER JOIN  martial_status_tbl as ms ON ms.id = p3.marital_stat\n",
    "                        )\n",
    "                    SELECT p4.id_person, p4.race, p4.age, p4.year, p4.marital_stat, p4.education, \n",
    "                            p4.hisp_origin, sex_tbl.sex FROM person_sex AS p4\n",
    "                    INNER JOIN sex_tbl ON sex_tbl.id = p4.sex\n",
    "                )\n",
    "                SELECT p5.id_person, p5.race, p5.age, p5.year, p5.marital_stat, edu.education,\n",
    "                        p5.hisp_origin, p5.sex FROM person_edu as p5\n",
    "                INNER JOIN education_tbl as edu ON edu.id = p5.education\n",
    "            )\n",
    "            SELECT p.id_person, p.race, p.age, p.year, p.marital_stat, p.education, p.hisp_origin, \n",
    "                    p.sex, e.det_occ_code, e.wage_per_hour, e.union_member, e.unemp_reason,\n",
    "                    e.own_or_self, e.weeks_worked, e.income_50k, e.class_worker FROM person_total AS p\n",
    "            INNER JOIN employee_tbl as e ON e.id_person=p.id_person\n",
    "        )\n",
    "        SELECT dcl.id_person, dcl.race, dcl.age, dcl.year, dcl.marital_stat, dcl.education, dcl.hisp_origin,\n",
    "               dcl.sex, dcl.wage_per_hour, dcl.union_member, dcl.unemp_reason, dcl.own_or_self,\n",
    "               dcl.weeks_worked, dcl.income_50k, dcl.det_occ_code, cw.class_worker FROM data_class as dcl\n",
    "        INNER JOIN class_worker_tbl as cw ON cw.id = dcl.class_worker\n",
    "    )\n",
    "    SELECT docc.id_person, docc.race, docc.age, docc.year, docc.marital_stat, docc.education, docc.hisp_origin,\n",
    "           docc.sex, docc.wage_per_hour, docc.union_member, docc.unemp_reason, docc.own_or_self,\n",
    "           docc.weeks_worked, docc.income_50k, mo.major_occ_code, mo.det_ind_code, docc.class_worker,\n",
    "           docc.det_occ_code FROM data_occ as docc\n",
    "    INNER JOIN det_occ_code_tbl as mo ON mo.det_occ_code = docc.det_occ_code\n",
    ")\n",
    "SELECT data.id_person, data.race, data.age, data.year, data.marital_stat, data.education, data.hisp_origin,\n",
    "       data.sex, data.wage_per_hour, data.union_member, data.unemp_reason, data.own_or_self, data.class_worker,\n",
    "       data.weeks_worked, data.income_50k, data.major_occ_code, mi.major_ind_code, \n",
    "       data.det_ind_code, data.det_occ_code FROM data\n",
    "INNER JOIN det_ind_code_tbl as mi ON mi.det_ind_code = data.det_ind_code\n",
    "WHERE age = 31 AND class_worker = ' Private' AND major_ind_code = ' Education' AND sex = ' Female'\n",
    "      AND major_occ_code = ' Professional specialty' AND hisp_origin = ' Mexican (Mexicano)';\n",
    "\"\"\"\n",
    "data = pd.read_sql_query(filter_query, conn)\n",
    "data"
   ]
  },
  {
   "cell_type": "code",
   "execution_count": null,
   "metadata": {},
   "outputs": [],
   "source": [
    "filter_query = \"\"\"\n",
    "WITH filter AS (\n",
    "    WITH data AS (\n",
    "        WITH data_occ AS (\n",
    "            WITH data_class AS(\n",
    "                WITH person_total AS (\n",
    "                    WITH person_edu AS (\n",
    "                        WITH person_sex AS (\n",
    "                            WITH person_race AS (\n",
    "                                WITH person_hisp AS (\n",
    "                                    SELECT p1.id_person, p1.age, p1.year, p1.marital_stat, p1.race, \n",
    "                                    p1.education, p1.sex, hsp.hisp_origin FROM person_tbl as p1\n",
    "                                    INNER JOIN hisp_origin_tbl as hsp ON hsp.id = p1.hisp_origin\n",
    "                                )\n",
    "                                SELECT r.race, p2.id_person, p2.age, p2.year, p2.marital_stat,\n",
    "                                        p2.education, p2.hisp_origin, p2.sex FROM race_tbl as r \n",
    "                                INNER JOIN person_hisp as p2 ON p2.race = r.id\n",
    "                                )\n",
    "                            SELECT p3.id_person, p3.race, p3.age, p3.year, p3.education, p3.hisp_origin,\n",
    "                                    p3.sex, ms.marital_stat FROM person_race AS p3\n",
    "                            INNER JOIN  martial_status_tbl as ms ON ms.id = p3.marital_stat\n",
    "                            )\n",
    "                        SELECT p4.id_person, p4.race, p4.age, p4.year, p4.marital_stat, p4.education, \n",
    "                                p4.hisp_origin, sex_tbl.sex FROM person_sex AS p4\n",
    "                        INNER JOIN sex_tbl ON sex_tbl.id = p4.sex\n",
    "                    )\n",
    "                    SELECT p5.id_person, p5.race, p5.age, p5.year, p5.marital_stat, edu.education,\n",
    "                            p5.hisp_origin, p5.sex FROM person_edu as p5\n",
    "                    INNER JOIN education_tbl as edu ON edu.id = p5.education\n",
    "                )\n",
    "                SELECT p.id_person, p.race, p.age, p.year, p.marital_stat, p.education, p.hisp_origin, \n",
    "                        p.sex, e.det_occ_code, e.wage_per_hour, e.union_member, e.unemp_reason,\n",
    "                        e.own_or_self, e.weeks_worked, e.income_50k, e.class_worker FROM person_total AS p\n",
    "                INNER JOIN employee_tbl as e ON e.id_person=p.id_person\n",
    "            )\n",
    "            SELECT dcl.id_person, dcl.race, dcl.age, dcl.year, dcl.marital_stat, dcl.education, dcl.hisp_origin,\n",
    "                   dcl.sex, dcl.wage_per_hour, dcl.union_member, dcl.unemp_reason, dcl.own_or_self,\n",
    "                   dcl.weeks_worked, dcl.income_50k, dcl.det_occ_code, cw.class_worker FROM data_class as dcl\n",
    "            INNER JOIN class_worker_tbl as cw ON cw.id = dcl.class_worker\n",
    "        )\n",
    "        SELECT docc.id_person, docc.race, docc.age, docc.year, docc.marital_stat, docc.education, docc.hisp_origin,\n",
    "               docc.sex, docc.wage_per_hour, docc.union_member, docc.unemp_reason, docc.own_or_self,\n",
    "               docc.weeks_worked, docc.income_50k, mo.major_occ_code, mo.det_ind_code, docc.class_worker,\n",
    "               docc.det_occ_code FROM data_occ as docc\n",
    "        INNER JOIN det_occ_code_tbl as mo ON mo.det_occ_code = docc.det_occ_code\n",
    "    )\n",
    "    SELECT data.id_person, data.race, data.age, data.year, data.marital_stat, data.education, data.hisp_origin,\n",
    "       data.sex, data.wage_per_hour, data.union_member, data.unemp_reason, data.own_or_self, data.class_worker,\n",
    "       data.weeks_worked, data.income_50k, data.major_occ_code, mi.major_ind_code, \n",
    "       data.det_ind_code, data.det_occ_code FROM data\n",
    "    INNER JOIN det_ind_code_tbl as mi ON mi.det_ind_code = data.det_ind_code\n",
    "    WHERE age = 31 AND class_worker = ' Private' AND major_ind_code = ' Education' AND sex = ' Female'\n",
    "          AND major_occ_code = ' Professional specialty' AND hisp_origin = ' Mexican (Mexicano)'\n",
    ")\n",
    "SELECT avg(wage_per_hour) as mean_wage, avg(weeks_worked) as mean_weeks_worked, \n",
    "       min(wage_per_hour) as min_wage, min(weeks_worked) as min_weeks_worked, \n",
    "       max(wage_per_hour) as max_wage, max(weeks_worked) as max_weeks_worked, \n",
    "       sum(income_50k) as person_50k_plus, count(id_person) as num_person      \n",
    "FROM filter;\n",
    "\"\"\"\n",
    "data = pd.read_sql_query(filter_query, conn)\n",
    "data"
   ]
  },
  {
   "cell_type": "code",
   "execution_count": null,
   "metadata": {},
   "outputs": [],
   "source": [
    "filter_query = \"\"\"\n",
    "WITH filter AS (\n",
    "    WITH data AS (\n",
    "        WITH data_occ AS (\n",
    "            WITH data_class AS(\n",
    "                WITH person_total AS (\n",
    "                    WITH person_edu AS (\n",
    "                        WITH person_sex AS (\n",
    "                            WITH person_race AS (\n",
    "                                WITH person_hisp AS (\n",
    "                                    SELECT p1.id_person, p1.age, p1.year, p1.marital_stat, p1.race, \n",
    "                                    p1.education, p1.sex, hsp.hisp_origin FROM person_tbl as p1\n",
    "                                    INNER JOIN hisp_origin_tbl as hsp ON hsp.id = p1.hisp_origin\n",
    "                                )\n",
    "                                SELECT r.race, p2.id_person, p2.age, p2.year, p2.marital_stat,\n",
    "                                        p2.education, p2.hisp_origin, p2.sex FROM race_tbl as r \n",
    "                                INNER JOIN person_hisp as p2 ON p2.race = r.id\n",
    "                                )\n",
    "                            SELECT p3.id_person, p3.race, p3.age, p3.year, p3.education, p3.hisp_origin,\n",
    "                                    p3.sex, ms.marital_stat FROM person_race AS p3\n",
    "                            INNER JOIN  martial_status_tbl as ms ON ms.id = p3.marital_stat\n",
    "                            )\n",
    "                        SELECT p4.id_person, p4.race, p4.age, p4.year, p4.marital_stat, p4.education, \n",
    "                                p4.hisp_origin, sex_tbl.sex FROM person_sex AS p4\n",
    "                        INNER JOIN sex_tbl ON sex_tbl.id = p4.sex\n",
    "                    )\n",
    "                    SELECT p5.id_person, p5.race, p5.age, p5.year, p5.marital_stat, edu.education,\n",
    "                            p5.hisp_origin, p5.sex FROM person_edu as p5\n",
    "                    INNER JOIN education_tbl as edu ON edu.id = p5.education\n",
    "                )\n",
    "                SELECT p.id_person, p.race, p.age, p.year, p.marital_stat, p.education, p.hisp_origin, \n",
    "                        p.sex, e.det_occ_code, e.wage_per_hour, e.union_member, e.unemp_reason,\n",
    "                        e.own_or_self, e.weeks_worked, e.income_50k, e.class_worker FROM person_total AS p\n",
    "                INNER JOIN employee_tbl as e ON e.id_person=p.id_person\n",
    "            )\n",
    "            SELECT dcl.id_person, dcl.race, dcl.age, dcl.year, dcl.marital_stat, dcl.education, dcl.hisp_origin,\n",
    "                   dcl.sex, dcl.wage_per_hour, dcl.union_member, dcl.unemp_reason, dcl.own_or_self,\n",
    "                   dcl.weeks_worked, dcl.income_50k, dcl.det_occ_code, cw.class_worker FROM data_class as dcl\n",
    "            INNER JOIN class_worker_tbl as cw ON cw.id = dcl.class_worker\n",
    "        )\n",
    "        SELECT docc.id_person, docc.race, docc.age, docc.year, docc.marital_stat, docc.education, docc.hisp_origin,\n",
    "               docc.sex, docc.wage_per_hour, docc.union_member, docc.unemp_reason, docc.own_or_self,\n",
    "               docc.weeks_worked, docc.income_50k, mo.major_occ_code, mo.det_ind_code, docc.class_worker,\n",
    "               docc.det_occ_code FROM data_occ as docc\n",
    "        INNER JOIN det_occ_code_tbl as mo ON mo.det_occ_code = docc.det_occ_code\n",
    "    )\n",
    "    SELECT data.id_person, data.race, data.age, data.year, data.marital_stat, data.education, data.hisp_origin,\n",
    "       data.sex, data.wage_per_hour, data.union_member, data.unemp_reason, data.own_or_self, data.class_worker,\n",
    "       data.weeks_worked, data.income_50k, data.major_occ_code, mi.major_ind_code, \n",
    "       data.det_ind_code, data.det_occ_code FROM data\n",
    "    INNER JOIN det_ind_code_tbl as mi ON mi.det_ind_code = data.det_ind_code\n",
    "    WHERE age = 31 AND class_worker = ' Private' AND data.det_ind_code = 43 AND data.det_occ_code = 7 AND \n",
    "          marital_stat = ' Never married' AND\n",
    "          major_ind_code = ' Education' AND major_occ_code = ' Professional specialty' AND \n",
    "          hisp_origin = ' Mexican (Mexicano)' AND sex = ' Female'\n",
    ")\n",
    "SELECT avg(wage_per_hour) as mean_wage, avg(weeks_worked) as mean_weeks_worked, \n",
    "       min(wage_per_hour) as min_wage, min(weeks_worked) as min_weeks_worked, \n",
    "       max(wage_per_hour) as max_wage, max(weeks_worked) as max_weeks_worked, \n",
    "       sum(income_50k) as person_50k_plus, count(id_person) as num_person      \n",
    "FROM filter;\n",
    "\"\"\"\n",
    "data = pd.read_sql_query(filter_query, conn)\n",
    "data"
   ]
  },
  {
   "cell_type": "code",
   "execution_count": null,
   "metadata": {},
   "outputs": [],
   "source": [
    "conn.close()"
   ]
  },
  {
   "cell_type": "code",
   "execution_count": null,
   "metadata": {},
   "outputs": [],
   "source": []
  }
 ],
 "metadata": {
  "kernelspec": {
   "display_name": "Python 3",
   "language": "python",
   "name": "python3"
  },
  "language_info": {
   "codemirror_mode": {
    "name": "ipython",
    "version": 3
   },
   "file_extension": ".py",
   "mimetype": "text/x-python",
   "name": "python",
   "nbconvert_exporter": "python",
   "pygments_lexer": "ipython3",
   "version": "3.8.5"
  }
 },
 "nbformat": 4,
 "nbformat_minor": 4
}
